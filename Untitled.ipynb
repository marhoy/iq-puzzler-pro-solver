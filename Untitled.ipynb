{
 "cells": [
  {
   "cell_type": "code",
   "execution_count": 1,
   "metadata": {},
   "outputs": [],
   "source": [
    "%load_ext autoreload\n",
    "%autoreload 2"
   ]
  },
  {
   "cell_type": "code",
   "execution_count": 91,
   "metadata": {},
   "outputs": [],
   "source": [
    "import itertools\n",
    "import random\n",
    "\n",
    "import numpy as np\n",
    "\n",
    "import iqpuzzlesolver"
   ]
  },
  {
   "cell_type": "code",
   "execution_count": 113,
   "metadata": {},
   "outputs": [
    {
     "name": "stdout",
     "output_type": "stream",
     "text": [
      "Piece 3 has 4 variants\n",
      "Piece 6 has 8 variants\n",
      "Piece 9 has 4 variants\n",
      "Piece 2 has 8 variants\n",
      "Piece 4 has 4 variants\n",
      "Piece 7 has 4 variants\n",
      "Piece 12 has 8 variants\n"
     ]
    }
   ],
   "source": [
    "grid, pieces = start_positions.start_position(25)\n",
    "for p in pieces:\n",
    "    print(\"Piece {} has {} variants\".format(p.variants[0].max(), len(p.variants)))"
   ]
  },
  {
   "cell_type": "code",
   "execution_count": 82,
   "metadata": {},
   "outputs": [],
   "source": [
    "random.shuffle(pieces)\n",
    "\n",
    "for piece in pieces:\n",
    "    random.shuffle(piece.variants)"
   ]
  },
  {
   "cell_type": "code",
   "execution_count": 114,
   "metadata": {},
   "outputs": [],
   "source": [
    "def solve(grid, pieces):\n",
    "   \n",
    "    if grid.min() > 0:\n",
    "        # No empty cells left in grid\n",
    "        print(\"Solution found:\\n\", grid)\n",
    "        return grid\n",
    "    \n",
    "    my_pieces = pieces.copy()\n",
    "    piece = my_pieces.pop()\n",
    "\n",
    "    for i, variant in enumerate(piece.variants):\n",
    "        for r, c in itertools.product(range(grid.shape[0] - variant.shape[0] + 1),\n",
    "                                      range(grid.shape[1] - variant.shape[1] + 1)):\n",
    "            \n",
    "            if not np.any(grid[r:r + variant.shape[0], c:c + variant.shape[1]] * variant):\n",
    "                # This piece can be placed in this position\n",
    "                # Do that and call ourselves with the resulting grid\n",
    "                newgrid = grid.copy()\n",
    "                newgrid[r:r + variant.shape[0], c:c + variant.shape[1]] += variant\n",
    "                \n",
    "                # print(\"{}Placing piece {}, variant {} at {}, {}\".format('    '*(2-len(my_pieces)), variant.max(), i, r, c))\n",
    "                \n",
    "                solution = solve(newgrid, my_pieces)\n",
    "                if solution is not None:\n",
    "                    return solution\n",
    " \n",
    "    # print(\"{}Finished with piece {}\".format('    '*(2-len(my_pieces)), piece.variants[0].max()))"
   ]
  },
  {
   "cell_type": "code",
   "execution_count": 115,
   "metadata": {},
   "outputs": [
    {
     "name": "stdout",
     "output_type": "stream",
     "text": [
      "Solution found:\n",
      " [[15 15 15 15 15 15 15 15 15 15 15]\n",
      " [15 15  7  7 15 15 15 12 15 15 15]\n",
      " [15 15  7  3  3 15  4 12 12 12  9]\n",
      " [ 2 15  7  7  3  3  4  6 12  9  9]\n",
      " [ 2  2  2  2  4  4  4  6  6  6  9]]\n",
      "CPU times: user 37.6 s, sys: 276 ms, total: 37.9 s\n",
      "Wall time: 38 s\n"
     ]
    }
   ],
   "source": [
    "%%time\n",
    "\n",
    "solution = solve(grid, pieces)"
   ]
  },
  {
   "cell_type": "code",
   "execution_count": 116,
   "metadata": {},
   "outputs": [
    {
     "data": {
      "text/plain": [
       "array([[15, 15, 15, 15, 15, 15, 15, 15, 15, 15, 15],\n",
       "       [15, 15,  7,  7, 15, 15, 15, 12, 15, 15, 15],\n",
       "       [15, 15,  7,  3,  3, 15,  4, 12, 12, 12,  9],\n",
       "       [ 2, 15,  7,  7,  3,  3,  4,  6, 12,  9,  9],\n",
       "       [ 2,  2,  2,  2,  4,  4,  4,  6,  6,  6,  9]], dtype=uint8)"
      ]
     },
     "execution_count": 116,
     "metadata": {},
     "output_type": "execute_result"
    }
   ],
   "source": [
    "solution"
   ]
  },
  {
   "cell_type": "code",
   "execution_count": 117,
   "metadata": {},
   "outputs": [],
   "source": [
    "%matplotlib inline\n",
    "import matplotlib.pyplot as plt"
   ]
  },
  {
   "cell_type": "code",
   "execution_count": 118,
   "metadata": {},
   "outputs": [
    {
     "data": {
      "text/plain": [
       "<matplotlib.image.AxesImage at 0x1145f8fd0>"
      ]
     },
     "execution_count": 118,
     "metadata": {},
     "output_type": "execute_result"
    },
    {
     "data": {
      "image/png": "[encoded data removed]",
      "text/plain": [
       "<Figure size 633.6x288 with 1 Axes>"
      ]
     },
     "metadata": {
      "needs_background": "light"
     },
     "output_type": "display_data"
    }
   ],
   "source": [
    "plt.matshow(solution)"
   ]
  },
  {
   "cell_type": "code",
   "execution_count": null,
   "metadata": {},
   "outputs": [],
   "source": [
    "grid"
   ]
  },
  {
   "cell_type": "code",
   "execution_count": null,
   "metadata": {},
   "outputs": [],
   "source": [
    "%debug"
   ]
  },
  {
   "cell_type": "code",
   "execution_count": null,
   "metadata": {},
   "outputs": [],
   "source": []
  }
 ],
 "metadata": {
  "kernelspec": {
   "display_name": "Python 3",
   "language": "python",
   "name": "python3"
  },
  "language_info": {
   "codemirror_mode": {
    "name": "ipython",
    "version": 3
   },
   "file_extension": ".py",
   "mimetype": "text/x-python",
   "name": "python",
   "nbconvert_exporter": "python",
   "pygments_lexer": "ipython3",
   "version": "3.7.4"
  }
 },
 "nbformat": 4,
 "nbformat_minor": 2
}
